{
 "cells": [
  {
   "cell_type": "code",
   "execution_count": 17,
   "id": "e55a2a7e",
   "metadata": {},
   "outputs": [],
   "source": [
    "import pandas as pd\n",
    "import matplotlib.pyplot as plt\n",
    "import warnings\n",
    "from datetime import datetime\n",
    "import numpy as np\n",
    "import seaborn as sns\n",
    "import scipy as sc"
   ]
  },
  {
   "cell_type": "code",
   "execution_count": 18,
   "id": "5f95e1bf",
   "metadata": {},
   "outputs": [
    {
     "name": "stderr",
     "output_type": "stream",
     "text": [
      "Skipping line 3350: expected 12 fields, saw 13\n",
      "Skipping line 4704: expected 12 fields, saw 13\n",
      "Skipping line 5879: expected 12 fields, saw 13\n",
      "Skipping line 8981: expected 12 fields, saw 13\n",
      "\n"
     ]
    }
   ],
   "source": [
    "warnings.filterwarnings(\"ignore\")\n",
    "df = pd.read_csv(r\"datasets\\books.csv\",sep=\",\", error_bad_lines=False, index_col=\"bookID\")\n",
    "# Remove all spaces from column names\n",
    "df.columns = df.columns.str.replace(\" \", \"\")\n",
    "# Remove books without ratings\n",
    "df = df[df.ratings_count != 0]\n",
    "# Remove books where num_pages is not a number\n",
    "df = df[df['num_pages'].apply(lambda x: isinstance(x, (int, float)))]"
   ]
  },
  {
   "cell_type": "code",
   "execution_count": 19,
   "id": "79b183e0",
   "metadata": {},
   "outputs": [],
   "source": [
    "# Create Categorical variable. 1 if English, 0 if not English\n",
    "df[\"is_eng\"] = df[\"language_code\"].str.contains('eng|en-').astype(int)\n",
    "df.drop(columns=[\"language_code\"]);\n",
    "df[\"publication_date\"] = pd.to_datetime(df[\"publication_date\"], errors='coerce')\n",
    "df = df.dropna();"
   ]
  },
  {
   "cell_type": "code",
   "execution_count": 21,
   "id": "446de1fd",
   "metadata": {},
   "outputs": [],
   "source": [
    "specific_date_str = \"2020-01-01\"\n",
    "specific_date = pd.to_datetime(specific_date_str)\n",
    "# Find time since the books were published\n",
    "df[\"days_since_published\"] = df[\"publication_date\"].apply(lambda x: (specific_date - x).days)\n",
    "df[\"years_since_published\"] = df.days_since_published / 365.24\n",
    "# Create variable that is rating/text_review per day (rating/review density)\n",
    "df[\"r_count_per_day\"] = df.ratings_count / df.days_since_published\n",
    "df[\"t_count_per_day\"] = df.text_reviews_count / df.days_since_published\n",
    "df[\"r_count_per_year\"] = df.ratings_count / df.years_since_published\n",
    "df[\"t_count_per_year\"] = df.text_reviews_count / df.years_since_published"
   ]
  },
  {
   "cell_type": "code",
   "execution_count": 22,
   "id": "4b8bfbcc",
   "metadata": {},
   "outputs": [],
   "source": [
    "# Remove audiobooks\n",
    "def is_audio(row):\n",
    "    if row['num_pages'] < 30 or \"audio\" in row[\"publisher\"]:\n",
    "        return 1\n",
    "    else:\n",
    "        return 0\n",
    "\n",
    "df[\"audio\"] = df.apply(lambda row: is_audio(row), axis=1)\n",
    "df = df[df.audio == 0]"
   ]
  },
  {
   "cell_type": "code",
   "execution_count": 24,
   "id": "f15f0a76",
   "metadata": {},
   "outputs": [],
   "source": [
    "df[\"log_num_pages\"] = np.log(df.num_pages)\n",
    "df[\"log_days_since_published\"] = np.log(df.days_since_published)\n",
    "df[\"log_years_since_published\"] = np.log(df.years_since_published)\n",
    "df[\"log_ratings_count\"] = np.log(df.ratings_count)\n",
    "df[\"log_text_reviews_count\"] = np.log(df.text_reviews_count)\n",
    "df[\"lg_r_count_per_day\"] = df.log_ratings_count / df.log_days_since_published\n",
    "df[\"lg_t_count_per_day\"] = df.log_text_reviews_count / df.log_days_since_published\n",
    "df[\"lg_r_count_per_year\"] = df.log_ratings_count / df.log_years_since_published\n",
    "df[\"lg_t_count_per_year\"] = df.log_text_reviews_count / df.log_years_since_published"
   ]
  },
  {
   "cell_type": "code",
   "execution_count": 27,
   "id": "00803dde",
   "metadata": {},
   "outputs": [
    {
     "data": {
      "text/plain": [
       "(array([  1.,   0.,   0.,   0.,   1.,   0.,   0.,   0.,   1.,   0.,   0.,\n",
       "          0.,   0.,   0.,   0.,   0.,   0.,   0.,   0.,   0.,   0.,   0.,\n",
       "          0.,   0.,   0.,   0.,   0.,   0.,   0.,   0.,   0.,   0.,   0.,\n",
       "          0.,   0.,   0.,   1.,   0.,   0.,   0.,   0.,   1.,   0.,   0.,\n",
       "          1.,   0.,   0.,   0.,   0.,   0.,   0.,   0.,   0.,   1.,   0.,\n",
       "          0.,   0.,   0.,   0.,   0.,   1.,   0.,   0.,   0.,   0.,   0.,\n",
       "          0.,   0.,   0.,   0.,   1.,   0.,   0.,   0.,   0.,   0.,   0.,\n",
       "          0.,   0.,   0.,   0.,   0.,   1.,   1.,   0.,   0.,   0.,   0.,\n",
       "          0.,   0.,   0.,   0.,   0.,   1.,   1.,   1.,   0.,   0.,   0.,\n",
       "          0.,   0.,   0.,   0.,   1.,   2.,   0.,   0.,   0.,   0.,   0.,\n",
       "          0.,   1.,   0.,   0.,   1.,   0.,   1.,   0.,   0.,   0.,   1.,\n",
       "          0.,   0.,   1.,   0.,   0.,   0.,   0.,   1.,   0.,   1.,   4.,\n",
       "          1.,   2.,   0.,   1.,   1.,   0.,   3.,   1.,   0.,   0.,   1.,\n",
       "          1.,   1.,   4.,   1.,   0.,   4.,   0.,   4.,   1.,   2.,   1.,\n",
       "          5.,   4.,   1.,   5.,   1.,   8.,   3.,   4.,   3.,   2.,   2.,\n",
       "          6.,   5.,   6.,   4.,   6.,  12.,   7.,  11.,   9.,   8.,  12.,\n",
       "          5.,   9.,   7.,  16.,  22.,  53.,  81., 195., 335., 604., 371.,\n",
       "        386., 296., 384., 378., 244., 371., 283., 277., 234., 316., 311.,\n",
       "        264., 298., 230., 232., 223., 227., 217., 191., 184., 185., 180.,\n",
       "        162., 162., 133., 137., 122., 130.,  89., 105., 128.,  98.,  99.,\n",
       "        105.,  78.,  82.,  91.,  97.,  75.,  78.,  60.,  72.,  46.,  48.,\n",
       "         43.,  63.,  47.,  38.,  39.,  47.,  40.,  23.,  31.,  20.,  25.,\n",
       "         17.,  28.,  15.,  27.,  28.,  22.,  15.,   7.,  12.,  19.,   7.,\n",
       "         11.,   9.,  14.,   4.,   1.,   5.,  12.,  19.,   4.,   6.,   6.,\n",
       "          6.,   5.,   4.,   2.,   6.,   3.,   1.,   2.,   2.,   2.,   0.,\n",
       "          0.,   1.,   0.,   1.,   0.,   0.,   0.,   1.,   1.,   0.,   1.,\n",
       "          1.,   2.,   1.,   2.,   0.,   1.,   0.,   1.,   1.,   0.,   0.,\n",
       "          0.,   0.,   1.]),\n",
       " array([-9.80573746e-01, -9.61346846e-01, -9.42119946e-01, -9.22893045e-01,\n",
       "        -9.03666145e-01, -8.84439245e-01, -8.65212345e-01, -8.45985445e-01,\n",
       "        -8.26758545e-01, -8.07531644e-01, -7.88304744e-01, -7.69077844e-01,\n",
       "        -7.49850944e-01, -7.30624044e-01, -7.11397143e-01, -6.92170243e-01,\n",
       "        -6.72943343e-01, -6.53716443e-01, -6.34489543e-01, -6.15262643e-01,\n",
       "        -5.96035742e-01, -5.76808842e-01, -5.57581942e-01, -5.38355042e-01,\n",
       "        -5.19128142e-01, -4.99901242e-01, -4.80674341e-01, -4.61447441e-01,\n",
       "        -4.42220541e-01, -4.22993641e-01, -4.03766741e-01, -3.84539841e-01,\n",
       "        -3.65312940e-01, -3.46086040e-01, -3.26859140e-01, -3.07632240e-01,\n",
       "        -2.88405340e-01, -2.69178440e-01, -2.49951539e-01, -2.30724639e-01,\n",
       "        -2.11497739e-01, -1.92270839e-01, -1.73043939e-01, -1.53817038e-01,\n",
       "        -1.34590138e-01, -1.15363238e-01, -9.61363380e-02, -7.69094378e-02,\n",
       "        -5.76825376e-02, -3.84556374e-02, -1.92287373e-02, -1.83709681e-06,\n",
       "         1.92250631e-02,  3.84519632e-02,  5.76788634e-02,  7.69057636e-02,\n",
       "         9.61326638e-02,  1.15359564e-01,  1.34586464e-01,  1.53813364e-01,\n",
       "         1.73040264e-01,  1.92267165e-01,  2.11494065e-01,  2.30720965e-01,\n",
       "         2.49947865e-01,  2.69174765e-01,  2.88401665e-01,  3.07628566e-01,\n",
       "         3.26855466e-01,  3.46082366e-01,  3.65309266e-01,  3.84536166e-01,\n",
       "         4.03763067e-01,  4.22989967e-01,  4.42216867e-01,  4.61443767e-01,\n",
       "         4.80670667e-01,  4.99897567e-01,  5.19124468e-01,  5.38351368e-01,\n",
       "         5.57578268e-01,  5.76805168e-01,  5.96032068e-01,  6.15258968e-01,\n",
       "         6.34485869e-01,  6.53712769e-01,  6.72939669e-01,  6.92166569e-01,\n",
       "         7.11393469e-01,  7.30620369e-01,  7.49847270e-01,  7.69074170e-01,\n",
       "         7.88301070e-01,  8.07527970e-01,  8.26754870e-01,  8.45981771e-01,\n",
       "         8.65208671e-01,  8.84435571e-01,  9.03662471e-01,  9.22889371e-01,\n",
       "         9.42116271e-01,  9.61343172e-01,  9.80570072e-01,  9.99796972e-01,\n",
       "         1.01902387e+00,  1.03825077e+00,  1.05747767e+00,  1.07670457e+00,\n",
       "         1.09593147e+00,  1.11515837e+00,  1.13438527e+00,  1.15361217e+00,\n",
       "         1.17283907e+00,  1.19206597e+00,  1.21129287e+00,  1.23051977e+00,\n",
       "         1.24974667e+00,  1.26897357e+00,  1.28820047e+00,  1.30742737e+00,\n",
       "         1.32665427e+00,  1.34588118e+00,  1.36510808e+00,  1.38433498e+00,\n",
       "         1.40356188e+00,  1.42278878e+00,  1.44201568e+00,  1.46124258e+00,\n",
       "         1.48046948e+00,  1.49969638e+00,  1.51892328e+00,  1.53815018e+00,\n",
       "         1.55737708e+00,  1.57660398e+00,  1.59583088e+00,  1.61505778e+00,\n",
       "         1.63428468e+00,  1.65351158e+00,  1.67273848e+00,  1.69196538e+00,\n",
       "         1.71119228e+00,  1.73041918e+00,  1.74964608e+00,  1.76887298e+00,\n",
       "         1.78809988e+00,  1.80732678e+00,  1.82655368e+00,  1.84578058e+00,\n",
       "         1.86500748e+00,  1.88423438e+00,  1.90346128e+00,  1.92268818e+00,\n",
       "         1.94191508e+00,  1.96114198e+00,  1.98036888e+00,  1.99959578e+00,\n",
       "         2.01882268e+00,  2.03804958e+00,  2.05727648e+00,  2.07650338e+00,\n",
       "         2.09573028e+00,  2.11495718e+00,  2.13418408e+00,  2.15341098e+00,\n",
       "         2.17263788e+00,  2.19186478e+00,  2.21109168e+00,  2.23031858e+00,\n",
       "         2.24954548e+00,  2.26877238e+00,  2.28799928e+00,  2.30722618e+00,\n",
       "         2.32645308e+00,  2.34567998e+00,  2.36490688e+00,  2.38413378e+00,\n",
       "         2.40336068e+00,  2.42258758e+00,  2.44181448e+00,  2.46104139e+00,\n",
       "         2.48026829e+00,  2.49949519e+00,  2.51872209e+00,  2.53794899e+00,\n",
       "         2.55717589e+00,  2.57640279e+00,  2.59562969e+00,  2.61485659e+00,\n",
       "         2.63408349e+00,  2.65331039e+00,  2.67253729e+00,  2.69176419e+00,\n",
       "         2.71099109e+00,  2.73021799e+00,  2.74944489e+00,  2.76867179e+00,\n",
       "         2.78789869e+00,  2.80712559e+00,  2.82635249e+00,  2.84557939e+00,\n",
       "         2.86480629e+00,  2.88403319e+00,  2.90326009e+00,  2.92248699e+00,\n",
       "         2.94171389e+00,  2.96094079e+00,  2.98016769e+00,  2.99939459e+00,\n",
       "         3.01862149e+00,  3.03784839e+00,  3.05707529e+00,  3.07630219e+00,\n",
       "         3.09552909e+00,  3.11475599e+00,  3.13398289e+00,  3.15320979e+00,\n",
       "         3.17243669e+00,  3.19166359e+00,  3.21089049e+00,  3.23011739e+00,\n",
       "         3.24934429e+00,  3.26857119e+00,  3.28779809e+00,  3.30702499e+00,\n",
       "         3.32625189e+00,  3.34547879e+00,  3.36470569e+00,  3.38393259e+00,\n",
       "         3.40315949e+00,  3.42238639e+00,  3.44161329e+00,  3.46084019e+00,\n",
       "         3.48006709e+00,  3.49929399e+00,  3.51852089e+00,  3.53774779e+00,\n",
       "         3.55697469e+00,  3.57620160e+00,  3.59542850e+00,  3.61465540e+00,\n",
       "         3.63388230e+00,  3.65310920e+00,  3.67233610e+00,  3.69156300e+00,\n",
       "         3.71078990e+00,  3.73001680e+00,  3.74924370e+00,  3.76847060e+00,\n",
       "         3.78769750e+00,  3.80692440e+00,  3.82615130e+00,  3.84537820e+00,\n",
       "         3.86460510e+00,  3.88383200e+00,  3.90305890e+00,  3.92228580e+00,\n",
       "         3.94151270e+00,  3.96073960e+00,  3.97996650e+00,  3.99919340e+00,\n",
       "         4.01842030e+00,  4.03764720e+00,  4.05687410e+00,  4.07610100e+00,\n",
       "         4.09532790e+00,  4.11455480e+00,  4.13378170e+00,  4.15300860e+00,\n",
       "         4.17223550e+00,  4.19146240e+00,  4.21068930e+00,  4.22991620e+00,\n",
       "         4.24914310e+00,  4.26837000e+00,  4.28759690e+00,  4.30682380e+00,\n",
       "         4.32605070e+00,  4.34527760e+00,  4.36450450e+00,  4.38373140e+00,\n",
       "         4.40295830e+00,  4.42218520e+00,  4.44141210e+00,  4.46063900e+00,\n",
       "         4.47986590e+00,  4.49909280e+00,  4.51831970e+00,  4.53754660e+00,\n",
       "         4.55677350e+00,  4.57600040e+00,  4.59522730e+00,  4.61445420e+00,\n",
       "         4.63368110e+00,  4.65290800e+00,  4.67213490e+00,  4.69136181e+00,\n",
       "         4.71058871e+00,  4.72981561e+00,  4.74904251e+00,  4.76826941e+00,\n",
       "         4.78749631e+00]),\n",
       " <BarContainer object of 300 artists>)"
      ]
     },
     "execution_count": 27,
     "metadata": {},
     "output_type": "execute_result"
    },
    {
     "data": {
      "image/png": "[encoded data removed]",
      "text/plain": [
       "<Figure size 640x480 with 1 Axes>"
      ]
     },
     "metadata": {},
     "output_type": "display_data"
    }
   ],
   "source": [
    "plt.hist(df[\"log_years_since_published\"], bins=int(300))"
   ]
  },
  {
   "cell_type": "code",
   "execution_count": null,
   "id": "99644c7d",
   "metadata": {},
   "outputs": [],
   "source": [
    "cols = []"
   ]
  },
  {
   "cell_type": "code",
   "execution_count": null,
   "id": "71193b6f",
   "metadata": {},
   "outputs": [],
   "source": [
    "corr = df[cols].corr()\n",
    "sns.heatmap(corr, annot=True, cmap=\"coolwarm\", vmin=-1, vmax=1)\n",
    "plt.show()"
   ]
  }
 ],
 "metadata": {
  "kernelspec": {
   "display_name": "Python 3 (ipykernel)",
   "language": "python",
   "name": "python3"
  },
  "language_info": {
   "codemirror_mode": {
    "name": "ipython",
    "version": 3
   },
   "file_extension": ".py",
   "mimetype": "text/x-python",
   "name": "python",
   "nbconvert_exporter": "python",
   "pygments_lexer": "ipython3",
   "version": "3.10.9"
  }
 },
 "nbformat": 4,
 "nbformat_minor": 5
}

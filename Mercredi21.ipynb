{
  "cells": [
    {
      "cell_type": "markdown",
      "id": "e9a33311",
      "metadata": {
        "id": "e9a33311"
      },
      "source": [
        "We start by importing necessary packages"
      ]
    },
    {
      "cell_type": "code",
      "execution_count": null,
      "id": "511b5328",
      "metadata": {
        "id": "511b5328"
      },
      "outputs": [],
      "source": []
    },
    {
      "cell_type": "code",
      "execution_count": 198,
      "id": "4e92a305",
      "metadata": {
        "id": "4e92a305"
      },
      "outputs": [],
      "source": [
        "import pandas as pd\n",
        "import matplotlib.pyplot as plt\n",
        "import warnings\n",
        "from datetime import datetime\n",
        "import numpy as np\n",
        "import seaborn as sns\n",
        "import scipy as sc\n",
        "import statsmodels.api as sm\n",
        "from sklearn.linear_model import LinearRegression\n",
        "from sklearn.ensemble import RandomForestRegressor\n",
        "from sklearn.model_selection import train_test_split\n",
        "from sklearn.metrics import r2_score\n",
        "from sklearn.metrics import r2_score\n",
        "from xgboost import XGBRegressor"
      ]
    },
    {
      "cell_type": "markdown",
      "id": "4adf6e17",
      "metadata": {
        "id": "4adf6e17"
      },
      "source": [
        "After importing the packages, we import the dataset.\n",
        "We then clean the dataset by removing, from the copy that is now stored in the ram, the book titles that are not imported correctly or the data is wrongly transformed.\n",
        "We also remove all those titles whos rating count is 0 as they don't have any rating that is the all neccessary response variable."
      ]
    },
    {
      "cell_type": "code",
      "execution_count": 199,
      "id": "97e3d4b3",
      "metadata": {
        "colab": {
          "base_uri": "https://localhost:8080/"
        },
        "id": "97e3d4b3",
        "outputId": "4e3ab509-0339-476f-b5a2-0d50f76f7832"
      },
      "outputs": [
        {
          "output_type": "stream",
          "name": "stderr",
          "text": [
            "b'Skipping line 3350: expected 12 fields, saw 13\\nSkipping line 4704: expected 12 fields, saw 13\\nSkipping line 5879: expected 12 fields, saw 13\\nSkipping line 8981: expected 12 fields, saw 13\\n'\n"
          ]
        }
      ],
      "source": [
        "warnings.filterwarnings(\"ignore\")\n",
        "df = pd.read_csv(r\"books.csv\",sep=\",\", error_bad_lines=False, index_col=\"bookID\")\n",
        "df.columns = df.columns.str.replace(\" \", \"\")\n",
        "df = df[df.ratings_count != 0]\n",
        "df = df[df['num_pages'].apply(lambda x: isinstance(x, (int, float)))]"
      ]
    },
    {
      "cell_type": "markdown",
      "id": "7e940861",
      "metadata": {
        "id": "7e940861"
      },
      "source": [
        "After having cleaned the dataset, we choose only to keep those variables that are not randomly assigned to the book. For example, the isbn number is not kept."
      ]
    },
    {
      "cell_type": "code",
      "execution_count": 200,
      "id": "ca334618",
      "metadata": {
        "id": "ca334618"
      },
      "outputs": [],
      "source": [
        "df = df.drop(columns=['isbn', 'isbn13'])"
      ]
    },
    {
      "cell_type": "markdown",
      "id": "82b7f999",
      "metadata": {
        "id": "82b7f999"
      },
      "source": [
        "We then take on the remaining variables and and transform and/or combine them into new variables that we believe could enhance the model.\n",
        "\n",
        "For example: Publishing date can potentially be quite pointless in itself, but if we make the published date relative to todays date by counting the number of days, we will know how long it is since the book was published.\n",
        "By doing this, we can also find out the rating frequency by taking the number of ratings and dividing it by the number of days since published.\n",
        "\n",
        "Some variables are also duplicated into a logarithmic version. This is done by the reasoning of for example if it turns out that an increase in the age of books generally corresponds with a better rating, then a book that is 1000 years old would be much better rated than any book published the last 50 years, which is a very large portion of the books one find on goodreads.com."
      ]
    },
    {
      "cell_type": "markdown",
      "id": "e05b511a",
      "metadata": {
        "id": "e05b511a"
      },
      "source": [
        "The first step in this is to convert 'publication_date' into a dataframe format.\n",
        "We remove all titles that are not comatible with this conversion."
      ]
    },
    {
      "cell_type": "code",
      "execution_count": 201,
      "id": "61148319",
      "metadata": {
        "id": "61148319"
      },
      "outputs": [],
      "source": [
        "df[\"publication_date\"] = pd.to_datetime(df[\"publication_date\"], errors='coerce')\n",
        "df = df.dropna();"
      ]
    },
    {
      "cell_type": "markdown",
      "id": "9fb5a2f6",
      "metadata": {
        "id": "9fb5a2f6"
      },
      "source": [
        "We then create a categorical variable to find out if the language of the book is english or not. This is because one can assume there are many books written in different languages, but there are also many languages.\n",
        "Creating a model based on each language could cause some very weak data (few datapoints) for some languages."
      ]
    },
    {
      "cell_type": "code",
      "execution_count": 202,
      "id": "36809cee",
      "metadata": {
        "id": "36809cee"
      },
      "outputs": [],
      "source": [
        "# Create Categorical variable. 1 if English, 0 if not English\n",
        "df[\"is_eng\"] = df[\"language_code\"].str.contains('eng|en-').astype(int)\n",
        "df.drop(columns=[\"language_code\"]);"
      ]
    },
    {
      "cell_type": "markdown",
      "id": "8e67e508",
      "metadata": {
        "id": "8e67e508"
      },
      "source": [
        "We also try to filter out audiobooks."
      ]
    },
    {
      "cell_type": "code",
      "execution_count": 203,
      "id": "c6b15441",
      "metadata": {
        "id": "c6b15441"
      },
      "outputs": [],
      "source": [
        "# Remove audiobooks\n",
        "def is_audio(row):\n",
        "    if row['num_pages'] < 30 or \"audio\" in row[\"publisher\"]:\n",
        "        return 1\n",
        "    else:\n",
        "        return 0\n",
        "\n",
        "df[\"audio\"] = df.apply(lambda row: is_audio(row), axis=1)\n",
        "df = df[df.audio == 0]"
      ]
    },
    {
      "cell_type": "markdown",
      "id": "cdf60627",
      "metadata": {
        "id": "cdf60627"
      },
      "source": [
        "We then start by creating the transformed variables.\n",
        "We assume that the data was extracted at the end of December 2022."
      ]
    },
    {
      "cell_type": "code",
      "execution_count": 204,
      "id": "ded789af",
      "metadata": {
        "id": "ded789af"
      },
      "outputs": [],
      "source": [
        "specific_date_str = \"2022-12-31\" #yyyy-mm-dd\n",
        "specific_date = pd.to_datetime(specific_date_str)\n",
        "# Find time since the books were published\n",
        "df[\"days_since_published\"] = df[\"publication_date\"].apply(lambda x: (specific_date - x).days)\n",
        "df[\"years_since_published\"] = df.days_since_published / 365.24\n",
        "df[\"log_days_since_published\"] = np.clip(np.log(df.days_since_published), 0, np.inf)"
      ]
    },
    {
      "cell_type": "code",
      "execution_count": 205,
      "id": "d4ba55ab",
      "metadata": {
        "id": "d4ba55ab"
      },
      "outputs": [],
      "source": [
        "df[\"log_num_pages\"] = np.log(df.num_pages)\n",
        "df[\"log_r_count\"] = np.log(df.ratings_count)\n",
        "df[\"log_t_count\"] = np.clip(np.log(df.text_reviews_count), 0, np.inf)"
      ]
    },
    {
      "cell_type": "code",
      "execution_count": 206,
      "id": "aef6d6a9",
      "metadata": {
        "id": "aef6d6a9"
      },
      "outputs": [],
      "source": [
        "# Create variable that is rating/text_review per day/year/log_day (rating/review density)\n",
        "df[\"r_count_per_day\"] = df.ratings_count / df.days_since_published\n",
        "df[\"t_count_per_day\"] = df.text_reviews_count / df.days_since_published\n",
        "df[\"r_count_per_year\"] = df.ratings_count / df.years_since_published\n",
        "df[\"t_count_per_year\"] = df.text_reviews_count / df.years_since_published\n",
        "df[\"r_count_per_log_day\"] = df.ratings_count / df.log_days_since_published\n",
        "df[\"t_count_per_log_day\"] = df.text_reviews_count / df.log_days_since_published"
      ]
    },
    {
      "cell_type": "code",
      "execution_count": 207,
      "id": "ee4de078",
      "metadata": {
        "id": "ee4de078"
      },
      "outputs": [],
      "source": [
        "df[\"log_r_count_per_day\"] = df.log_r_count / df.days_since_published\n",
        "df[\"log_t_count_per_day\"] = df.log_t_count / df.days_since_published\n",
        "df[\"log_r_count_per_year\"] = df.log_r_count / df.years_since_published\n",
        "df[\"log_t_count_per_year\"] = df.log_t_count / df.years_since_published\n",
        "df[\"log_r_count_per_log_day\"] = df.log_r_count / df.log_days_since_published\n",
        "df[\"log_t_count_per_log_day\"] = df.log_t_count / df.log_days_since_published"
      ]
    },
    {
      "cell_type": "code",
      "execution_count": 208,
      "id": "565ce3d0",
      "metadata": {
        "id": "565ce3d0"
      },
      "outputs": [],
      "source": [
        "df[\"ratings_count_per_num_pages\"] = df.ratings_count / df.num_pages\n",
        "df[\"text_reviews_count_per_num_pages\"] = df.text_reviews_count / df.num_pages\n",
        "df[\"ratings_count_per_log_num_pages\"] = df.ratings_count / df.log_num_pages\n",
        "df[\"text_reviews_count_per_log_num_pages\"] = df.text_reviews_count / df.log_num_pages\n",
        "df[\"log_r_count_per_num_pages\"] = df.log_r_count / df.num_pages\n",
        "df[\"log_t_count_per_num_pages\"] = df.log_t_count / df.num_pages\n",
        "df[\"log_r_count_per_log_num_pages\"] = df.log_r_count / df.log_num_pages\n",
        "df[\"log_t_count_per_log_num_pages\"] = df.log_t_count / df.log_num_pages"
      ]
    },
    {
      "cell_type": "markdown",
      "id": "05c216c0",
      "metadata": {
        "id": "05c216c0"
      },
      "source": [
        "As we of now have not applied any method for converting the string variables into numerical variables, we drop them from the dataset."
      ]
    },
    {
      "cell_type": "code",
      "source": [
        "df.head(2)"
      ],
      "metadata": {
        "colab": {
          "base_uri": "https://localhost:8080/",
          "height": 462
        },
        "id": "F7cqjmZ5ZB3I",
        "outputId": "0583e269-5d82-46c3-cdad-a61571ce299c"
      },
      "id": "F7cqjmZ5ZB3I",
      "execution_count": 188,
      "outputs": [
        {
          "output_type": "execute_result",
          "data": {
            "text/plain": [
              "                                                    title  \\\n",
              "bookID                                                      \n",
              "1       Harry Potter and the Half-Blood Prince (Harry ...   \n",
              "2       Harry Potter and the Order of the Phoenix (Har...   \n",
              "\n",
              "                           authors  average_rating language_code  num_pages  \\\n",
              "bookID                                                                        \n",
              "1       J.K. Rowling/Mary GrandPré            4.57           eng        652   \n",
              "2       J.K. Rowling/Mary GrandPré            4.49           eng        870   \n",
              "\n",
              "        ratings_count  text_reviews_count publication_date        publisher  \\\n",
              "bookID                                                                        \n",
              "1             2095690               27591       2006-09-16  Scholastic Inc.   \n",
              "2             2153167               29221       2004-09-01  Scholastic Inc.   \n",
              "\n",
              "        is_eng  ...  log_r_count_per_log_day  log_t_count_per_log_day  \\\n",
              "bookID          ...                                                     \n",
              "1            1  ...                 1.674738                 1.176513   \n",
              "2            1  ...                 1.655382                 1.167273   \n",
              "\n",
              "        ratings_count_per_num_pages  text_reviews_count_per_num_pages  \\\n",
              "bookID                                                                  \n",
              "1                       3214.248466                         42.317485   \n",
              "2                       2474.904598                         33.587356   \n",
              "\n",
              "        ratings_count_per_log_num_pages  text_reviews_count_per_log_num_pages  \\\n",
              "bookID                                                                          \n",
              "1                         323406.726601                           4257.841090   \n",
              "2                         318116.149735                           4317.209028   \n",
              "\n",
              "        log_r_count_per_num_pages  log_t_count_per_num_pages  \\\n",
              "bookID                                                         \n",
              "1                        0.022324                   0.015683   \n",
              "2                        0.016761                   0.011819   \n",
              "\n",
              "        log_r_count_per_log_num_pages  log_t_count_per_log_num_pages  \n",
              "bookID                                                                \n",
              "1                            2.246187                       1.577959  \n",
              "2                            2.154460                       1.519192  \n",
              "\n",
              "[2 rows x 37 columns]"
            ],
            "text/html": [
              "\n",
              "  <div id=\"df-09deae65-0269-4cae-8943-f892bd7b994f\">\n",
              "    <div class=\"colab-df-container\">\n",
              "      <div>\n",
              "<style scoped>\n",
              "    .dataframe tbody tr th:only-of-type {\n",
              "        vertical-align: middle;\n",
              "    }\n",
              "\n",
              "    .dataframe tbody tr th {\n",
              "        vertical-align: top;\n",
              "    }\n",
              "\n",
              "    .dataframe thead th {\n",
              "        text-align: right;\n",
              "    }\n",
              "</style>\n",
              "<table border=\"1\" class=\"dataframe\">\n",
              "  <thead>\n",
              "    <tr style=\"text-align: right;\">\n",
              "      <th></th>\n",
              "      <th>title</th>\n",
              "      <th>authors</th>\n",
              "      <th>average_rating</th>\n",
              "      <th>language_code</th>\n",
              "      <th>num_pages</th>\n",
              "      <th>ratings_count</th>\n",
              "      <th>text_reviews_count</th>\n",
              "      <th>publication_date</th>\n",
              "      <th>publisher</th>\n",
              "      <th>is_eng</th>\n",
              "      <th>...</th>\n",
              "      <th>log_r_count_per_log_day</th>\n",
              "      <th>log_t_count_per_log_day</th>\n",
              "      <th>ratings_count_per_num_pages</th>\n",
              "      <th>text_reviews_count_per_num_pages</th>\n",
              "      <th>ratings_count_per_log_num_pages</th>\n",
              "      <th>text_reviews_count_per_log_num_pages</th>\n",
              "      <th>log_r_count_per_num_pages</th>\n",
              "      <th>log_t_count_per_num_pages</th>\n",
              "      <th>log_r_count_per_log_num_pages</th>\n",
              "      <th>log_t_count_per_log_num_pages</th>\n",
              "    </tr>\n",
              "    <tr>\n",
              "      <th>bookID</th>\n",
              "      <th></th>\n",
              "      <th></th>\n",
              "      <th></th>\n",
              "      <th></th>\n",
              "      <th></th>\n",
              "      <th></th>\n",
              "      <th></th>\n",
              "      <th></th>\n",
              "      <th></th>\n",
              "      <th></th>\n",
              "      <th></th>\n",
              "      <th></th>\n",
              "      <th></th>\n",
              "      <th></th>\n",
              "      <th></th>\n",
              "      <th></th>\n",
              "      <th></th>\n",
              "      <th></th>\n",
              "      <th></th>\n",
              "      <th></th>\n",
              "      <th></th>\n",
              "    </tr>\n",
              "  </thead>\n",
              "  <tbody>\n",
              "    <tr>\n",
              "      <th>1</th>\n",
              "      <td>Harry Potter and the Half-Blood Prince (Harry ...</td>\n",
              "      <td>J.K. Rowling/Mary GrandPré</td>\n",
              "      <td>4.57</td>\n",
              "      <td>eng</td>\n",
              "      <td>652</td>\n",
              "      <td>2095690</td>\n",
              "      <td>27591</td>\n",
              "      <td>2006-09-16</td>\n",
              "      <td>Scholastic Inc.</td>\n",
              "      <td>1</td>\n",
              "      <td>...</td>\n",
              "      <td>1.674738</td>\n",
              "      <td>1.176513</td>\n",
              "      <td>3214.248466</td>\n",
              "      <td>42.317485</td>\n",
              "      <td>323406.726601</td>\n",
              "      <td>4257.841090</td>\n",
              "      <td>0.022324</td>\n",
              "      <td>0.015683</td>\n",
              "      <td>2.246187</td>\n",
              "      <td>1.577959</td>\n",
              "    </tr>\n",
              "    <tr>\n",
              "      <th>2</th>\n",
              "      <td>Harry Potter and the Order of the Phoenix (Har...</td>\n",
              "      <td>J.K. Rowling/Mary GrandPré</td>\n",
              "      <td>4.49</td>\n",
              "      <td>eng</td>\n",
              "      <td>870</td>\n",
              "      <td>2153167</td>\n",
              "      <td>29221</td>\n",
              "      <td>2004-09-01</td>\n",
              "      <td>Scholastic Inc.</td>\n",
              "      <td>1</td>\n",
              "      <td>...</td>\n",
              "      <td>1.655382</td>\n",
              "      <td>1.167273</td>\n",
              "      <td>2474.904598</td>\n",
              "      <td>33.587356</td>\n",
              "      <td>318116.149735</td>\n",
              "      <td>4317.209028</td>\n",
              "      <td>0.016761</td>\n",
              "      <td>0.011819</td>\n",
              "      <td>2.154460</td>\n",
              "      <td>1.519192</td>\n",
              "    </tr>\n",
              "  </tbody>\n",
              "</table>\n",
              "<p>2 rows × 37 columns</p>\n",
              "</div>\n",
              "      <button class=\"colab-df-convert\" onclick=\"convertToInteractive('df-09deae65-0269-4cae-8943-f892bd7b994f')\"\n",
              "              title=\"Convert this dataframe to an interactive table.\"\n",
              "              style=\"display:none;\">\n",
              "        \n",
              "  <svg xmlns=\"http://www.w3.org/2000/svg\" height=\"24px\"viewBox=\"0 0 24 24\"\n",
              "       width=\"24px\">\n",
              "    <path d=\"M0 0h24v24H0V0z\" fill=\"none\"/>\n",
              "    <path d=\"M18.56 5.44l.94 2.06.94-2.06 2.06-.94-2.06-.94-.94-2.06-.94 2.06-2.06.94zm-11 1L8.5 8.5l.94-2.06 2.06-.94-2.06-.94L8.5 2.5l-.94 2.06-2.06.94zm10 10l.94 2.06.94-2.06 2.06-.94-2.06-.94-.94-2.06-.94 2.06-2.06.94z\"/><path d=\"M17.41 7.96l-1.37-1.37c-.4-.4-.92-.59-1.43-.59-.52 0-1.04.2-1.43.59L10.3 9.45l-7.72 7.72c-.78.78-.78 2.05 0 2.83L4 21.41c.39.39.9.59 1.41.59.51 0 1.02-.2 1.41-.59l7.78-7.78 2.81-2.81c.8-.78.8-2.07 0-2.86zM5.41 20L4 18.59l7.72-7.72 1.47 1.35L5.41 20z\"/>\n",
              "  </svg>\n",
              "      </button>\n",
              "      \n",
              "  <style>\n",
              "    .colab-df-container {\n",
              "      display:flex;\n",
              "      flex-wrap:wrap;\n",
              "      gap: 12px;\n",
              "    }\n",
              "\n",
              "    .colab-df-convert {\n",
              "      background-color: #E8F0FE;\n",
              "      border: none;\n",
              "      border-radius: 50%;\n",
              "      cursor: pointer;\n",
              "      display: none;\n",
              "      fill: #1967D2;\n",
              "      height: 32px;\n",
              "      padding: 0 0 0 0;\n",
              "      width: 32px;\n",
              "    }\n",
              "\n",
              "    .colab-df-convert:hover {\n",
              "      background-color: #E2EBFA;\n",
              "      box-shadow: 0px 1px 2px rgba(60, 64, 67, 0.3), 0px 1px 3px 1px rgba(60, 64, 67, 0.15);\n",
              "      fill: #174EA6;\n",
              "    }\n",
              "\n",
              "    [theme=dark] .colab-df-convert {\n",
              "      background-color: #3B4455;\n",
              "      fill: #D2E3FC;\n",
              "    }\n",
              "\n",
              "    [theme=dark] .colab-df-convert:hover {\n",
              "      background-color: #434B5C;\n",
              "      box-shadow: 0px 1px 3px 1px rgba(0, 0, 0, 0.15);\n",
              "      filter: drop-shadow(0px 1px 2px rgba(0, 0, 0, 0.3));\n",
              "      fill: #FFFFFF;\n",
              "    }\n",
              "  </style>\n",
              "\n",
              "      <script>\n",
              "        const buttonEl =\n",
              "          document.querySelector('#df-09deae65-0269-4cae-8943-f892bd7b994f button.colab-df-convert');\n",
              "        buttonEl.style.display =\n",
              "          google.colab.kernel.accessAllowed ? 'block' : 'none';\n",
              "\n",
              "        async function convertToInteractive(key) {\n",
              "          const element = document.querySelector('#df-09deae65-0269-4cae-8943-f892bd7b994f');\n",
              "          const dataTable =\n",
              "            await google.colab.kernel.invokeFunction('convertToInteractive',\n",
              "                                                     [key], {});\n",
              "          if (!dataTable) return;\n",
              "\n",
              "          const docLinkHtml = 'Like what you see? Visit the ' +\n",
              "            '<a target=\"_blank\" href=https://colab.research.google.com/notebooks/data_table.ipynb>data table notebook</a>'\n",
              "            + ' to learn more about interactive tables.';\n",
              "          element.innerHTML = '';\n",
              "          dataTable['output_type'] = 'display_data';\n",
              "          await google.colab.output.renderOutput(dataTable, element);\n",
              "          const docLink = document.createElement('div');\n",
              "          docLink.innerHTML = docLinkHtml;\n",
              "          element.appendChild(docLink);\n",
              "        }\n",
              "      </script>\n",
              "    </div>\n",
              "  </div>\n",
              "  "
            ]
          },
          "metadata": {},
          "execution_count": 188
        }
      ]
    },
    {
      "cell_type": "code",
      "execution_count": 209,
      "id": "05ef4705",
      "metadata": {
        "id": "05ef4705"
      },
      "outputs": [],
      "source": [
        "df = df.drop(columns=['title', 'authors', 'language_code', 'publication_date', 'publisher','ratings_count','ratings_count_per_num_pages','text_reviews_count'])"
      ]
    },
    {
      "cell_type": "markdown",
      "id": "f13957f9",
      "metadata": {
        "id": "f13957f9"
      },
      "source": [
        "As we now expect all the values in the remaining dataframe to be purely numerical, we run a script to filter out all rows with non-numerical values"
      ]
    },
    {
      "cell_type": "code",
      "execution_count": 210,
      "id": "87ebdd95",
      "metadata": {
        "id": "87ebdd95"
      },
      "outputs": [],
      "source": [
        "df = df.apply(pd.to_numeric, errors='coerce').dropna()"
      ]
    },
    {
      "cell_type": "code",
      "execution_count": 211,
      "id": "52e1a2f4",
      "metadata": {
        "id": "52e1a2f4"
      },
      "outputs": [],
      "source": [
        "X = df.iloc[:, 1:df.shape[1]]\n",
        "y = df['average_rating']"
      ]
    },
    {
      "cell_type": "code",
      "execution_count": 212,
      "id": "9e4f79cb",
      "metadata": {
        "id": "9e4f79cb"
      },
      "outputs": [],
      "source": [
        "X_train, X_test, y_train, y_test = train_test_split(X, y, test_size=0.2, random_state = 42)"
      ]
    },
    {
      "cell_type": "code",
      "execution_count": 213,
      "id": "d761cfa0",
      "metadata": {
        "id": "d761cfa0"
      },
      "outputs": [],
      "source": [
        "linmod1 = sm.OLS(y_train, sm.add_constant(X_train))\n",
        "res_linmod1 = linmod1.fit()"
      ]
    },
    {
      "cell_type": "code",
      "execution_count": 173,
      "id": "aa0146aa",
      "metadata": {
        "colab": {
          "base_uri": "https://localhost:8080/",
          "height": 259
        },
        "id": "aa0146aa",
        "outputId": "a5820901-a4b5-4642-df4b-541d17c71359"
      },
      "outputs": [
        {
          "output_type": "error",
          "ename": "ValueError",
          "evalue": "ignored",
          "traceback": [
            "\u001b[0;31m---------------------------------------------------------------------------\u001b[0m",
            "\u001b[0;31mValueError\u001b[0m                                Traceback (most recent call last)",
            "\u001b[0;32m<ipython-input-173-8f835ab40dd7>\u001b[0m in \u001b[0;36m<module>\u001b[0;34m\u001b[0m\n\u001b[0;32m----> 1\u001b[0;31m \u001b[0my_pred\u001b[0m \u001b[0;34m=\u001b[0m \u001b[0mnp\u001b[0m\u001b[0;34m.\u001b[0m\u001b[0mclip\u001b[0m\u001b[0;34m(\u001b[0m\u001b[0mres_linmod1\u001b[0m\u001b[0;34m.\u001b[0m\u001b[0mpredict\u001b[0m\u001b[0;34m(\u001b[0m\u001b[0mX_test\u001b[0m\u001b[0;34m)\u001b[0m\u001b[0;34m,\u001b[0m \u001b[0;36m0\u001b[0m\u001b[0;34m,\u001b[0m \u001b[0;36m5\u001b[0m\u001b[0;34m)\u001b[0m\u001b[0;34m\u001b[0m\u001b[0;34m\u001b[0m\u001b[0m\n\u001b[0m\u001b[1;32m      2\u001b[0m \u001b[0mr_sq1\u001b[0m \u001b[0;34m=\u001b[0m \u001b[0mr2_sore\u001b[0m\u001b[0;34m(\u001b[0m\u001b[0my_test\u001b[0m\u001b[0;34m,\u001b[0m \u001b[0my_pred\u001b[0m\u001b[0;34m)\u001b[0m\u001b[0;34m\u001b[0m\u001b[0;34m\u001b[0m\u001b[0m\n\u001b[1;32m      3\u001b[0m \u001b[0mprint\u001b[0m\u001b[0;34m(\u001b[0m\u001b[0;34mf\"R_squared = {r_sq1}\"\u001b[0m\u001b[0;34m)\u001b[0m\u001b[0;34m\u001b[0m\u001b[0;34m\u001b[0m\u001b[0m\n",
            "\u001b[0;32m/usr/local/lib/python3.9/dist-packages/statsmodels/base/model.py\u001b[0m in \u001b[0;36mpredict\u001b[0;34m(self, exog, transform, *args, **kwargs)\u001b[0m\n\u001b[1;32m   1157\u001b[0m             \u001b[0mexog\u001b[0m \u001b[0;34m=\u001b[0m \u001b[0mnp\u001b[0m\u001b[0;34m.\u001b[0m\u001b[0matleast_2d\u001b[0m\u001b[0;34m(\u001b[0m\u001b[0mexog\u001b[0m\u001b[0;34m)\u001b[0m  \u001b[0;31m# needed in count model shape[1]\u001b[0m\u001b[0;34m\u001b[0m\u001b[0;34m\u001b[0m\u001b[0m\n\u001b[1;32m   1158\u001b[0m \u001b[0;34m\u001b[0m\u001b[0m\n\u001b[0;32m-> 1159\u001b[0;31m         predict_results = self.model.predict(self.params, exog, *args,\n\u001b[0m\u001b[1;32m   1160\u001b[0m                                              **kwargs)\n\u001b[1;32m   1161\u001b[0m \u001b[0;34m\u001b[0m\u001b[0m\n",
            "\u001b[0;32m/usr/local/lib/python3.9/dist-packages/statsmodels/regression/linear_model.py\u001b[0m in \u001b[0;36mpredict\u001b[0;34m(self, params, exog)\u001b[0m\n\u001b[1;32m    395\u001b[0m             \u001b[0mexog\u001b[0m \u001b[0;34m=\u001b[0m \u001b[0mself\u001b[0m\u001b[0;34m.\u001b[0m\u001b[0mexog\u001b[0m\u001b[0;34m\u001b[0m\u001b[0;34m\u001b[0m\u001b[0m\n\u001b[1;32m    396\u001b[0m \u001b[0;34m\u001b[0m\u001b[0m\n\u001b[0;32m--> 397\u001b[0;31m         \u001b[0;32mreturn\u001b[0m \u001b[0mnp\u001b[0m\u001b[0;34m.\u001b[0m\u001b[0mdot\u001b[0m\u001b[0;34m(\u001b[0m\u001b[0mexog\u001b[0m\u001b[0;34m,\u001b[0m \u001b[0mparams\u001b[0m\u001b[0;34m)\u001b[0m\u001b[0;34m\u001b[0m\u001b[0;34m\u001b[0m\u001b[0m\n\u001b[0m\u001b[1;32m    398\u001b[0m \u001b[0;34m\u001b[0m\u001b[0m\n\u001b[1;32m    399\u001b[0m     \u001b[0;32mdef\u001b[0m \u001b[0mget_distribution\u001b[0m\u001b[0;34m(\u001b[0m\u001b[0mself\u001b[0m\u001b[0;34m,\u001b[0m \u001b[0mparams\u001b[0m\u001b[0;34m,\u001b[0m \u001b[0mscale\u001b[0m\u001b[0;34m,\u001b[0m \u001b[0mexog\u001b[0m\u001b[0;34m=\u001b[0m\u001b[0;32mNone\u001b[0m\u001b[0;34m,\u001b[0m \u001b[0mdist_class\u001b[0m\u001b[0;34m=\u001b[0m\u001b[0;32mNone\u001b[0m\u001b[0;34m)\u001b[0m\u001b[0;34m:\u001b[0m\u001b[0;34m\u001b[0m\u001b[0;34m\u001b[0m\u001b[0m\n",
            "\u001b[0;32m/usr/local/lib/python3.9/dist-packages/numpy/core/overrides.py\u001b[0m in \u001b[0;36mdot\u001b[0;34m(*args, **kwargs)\u001b[0m\n",
            "\u001b[0;31mValueError\u001b[0m: shapes (2148,29) and (30,) not aligned: 29 (dim 1) != 30 (dim 0)"
          ]
        }
      ],
      "source": [
        "y_pred = np.clip(res_linmod1.predict(X_test), 0, 5)\n",
        "r_sq1 = r2_sore(y_test, y_pred)\n",
        "print(f\"R_squared = {r_sq1}\")"
      ]
    },
    {
      "cell_type": "code",
      "execution_count": 214,
      "id": "3c16737e",
      "metadata": {
        "colab": {
          "base_uri": "https://localhost:8080/"
        },
        "id": "3c16737e",
        "outputId": "a1e18a1b-6355-4440-86c5-09d59d7c39a7"
      },
      "outputs": [
        {
          "output_type": "stream",
          "name": "stdout",
          "text": [
            "R_squared = 0.09257069007689678\n"
          ]
        }
      ],
      "source": [
        "r_sq1 = res_linmod1.rsquared\n",
        "print(f\"R_squared = {r_sq1}\")"
      ]
    },
    {
      "cell_type": "markdown",
      "id": "d914d133",
      "metadata": {
        "id": "d914d133"
      },
      "source": [
        "Before we look closer at ways of simplifying the linear regression model, we have a look at other regression models\n",
        "We start with random forest."
      ]
    },
    {
      "cell_type": "code",
      "execution_count": 291,
      "id": "2503b1e7",
      "metadata": {
        "colab": {
          "base_uri": "https://localhost:8080/",
          "height": 248
        },
        "id": "2503b1e7",
        "outputId": "9d535065-b118-4f7b-ef79-5da9e5b714ea"
      },
      "outputs": [
        {
          "output_type": "execute_result",
          "data": {
            "text/plain": [
              "XGBRegressor(base_score=None, booster=None, callbacks=None,\n",
              "             colsample_bylevel=None, colsample_bynode=None,\n",
              "             colsample_bytree=0.9, early_stopping_rounds=None,\n",
              "             enable_categorical=False, eta=0.2, eval_metric=None,\n",
              "             feature_types=None, gamma=None, gpu_id=None, grow_policy=None,\n",
              "             importance_type=None, interaction_constraints=None,\n",
              "             learning_rate=None, max_bin=None, max_cat_threshold=None,\n",
              "             max_cat_to_onehot=None, max_delta_step=None, max_depth=1,\n",
              "             max_leaves=None, min_child_weight=None, missing=nan,\n",
              "             monotone_constraints=None, n_estimators=1000, n_jobs=None,\n",
              "             num_parallel_tree=None, predictor=None, ...)"
            ],
            "text/html": [
              "<style>#sk-container-id-51 {color: black;background-color: white;}#sk-container-id-51 pre{padding: 0;}#sk-container-id-51 div.sk-toggleable {background-color: white;}#sk-container-id-51 label.sk-toggleable__label {cursor: pointer;display: block;width: 100%;margin-bottom: 0;padding: 0.3em;box-sizing: border-box;text-align: center;}#sk-container-id-51 label.sk-toggleable__label-arrow:before {content: \"▸\";float: left;margin-right: 0.25em;color: #696969;}#sk-container-id-51 label.sk-toggleable__label-arrow:hover:before {color: black;}#sk-container-id-51 div.sk-estimator:hover label.sk-toggleable__label-arrow:before {color: black;}#sk-container-id-51 div.sk-toggleable__content {max-height: 0;max-width: 0;overflow: hidden;text-align: left;background-color: #f0f8ff;}#sk-container-id-51 div.sk-toggleable__content pre {margin: 0.2em;color: black;border-radius: 0.25em;background-color: #f0f8ff;}#sk-container-id-51 input.sk-toggleable__control:checked~div.sk-toggleable__content {max-height: 200px;max-width: 100%;overflow: auto;}#sk-container-id-51 input.sk-toggleable__control:checked~label.sk-toggleable__label-arrow:before {content: \"▾\";}#sk-container-id-51 div.sk-estimator input.sk-toggleable__control:checked~label.sk-toggleable__label {background-color: #d4ebff;}#sk-container-id-51 div.sk-label input.sk-toggleable__control:checked~label.sk-toggleable__label {background-color: #d4ebff;}#sk-container-id-51 input.sk-hidden--visually {border: 0;clip: rect(1px 1px 1px 1px);clip: rect(1px, 1px, 1px, 1px);height: 1px;margin: -1px;overflow: hidden;padding: 0;position: absolute;width: 1px;}#sk-container-id-51 div.sk-estimator {font-family: monospace;background-color: #f0f8ff;border: 1px dotted black;border-radius: 0.25em;box-sizing: border-box;margin-bottom: 0.5em;}#sk-container-id-51 div.sk-estimator:hover {background-color: #d4ebff;}#sk-container-id-51 div.sk-parallel-item::after {content: \"\";width: 100%;border-bottom: 1px solid gray;flex-grow: 1;}#sk-container-id-51 div.sk-label:hover label.sk-toggleable__label {background-color: #d4ebff;}#sk-container-id-51 div.sk-serial::before {content: \"\";position: absolute;border-left: 1px solid gray;box-sizing: border-box;top: 0;bottom: 0;left: 50%;z-index: 0;}#sk-container-id-51 div.sk-serial {display: flex;flex-direction: column;align-items: center;background-color: white;padding-right: 0.2em;padding-left: 0.2em;position: relative;}#sk-container-id-51 div.sk-item {position: relative;z-index: 1;}#sk-container-id-51 div.sk-parallel {display: flex;align-items: stretch;justify-content: center;background-color: white;position: relative;}#sk-container-id-51 div.sk-item::before, #sk-container-id-51 div.sk-parallel-item::before {content: \"\";position: absolute;border-left: 1px solid gray;box-sizing: border-box;top: 0;bottom: 0;left: 50%;z-index: -1;}#sk-container-id-51 div.sk-parallel-item {display: flex;flex-direction: column;z-index: 1;position: relative;background-color: white;}#sk-container-id-51 div.sk-parallel-item:first-child::after {align-self: flex-end;width: 50%;}#sk-container-id-51 div.sk-parallel-item:last-child::after {align-self: flex-start;width: 50%;}#sk-container-id-51 div.sk-parallel-item:only-child::after {width: 0;}#sk-container-id-51 div.sk-dashed-wrapped {border: 1px dashed gray;margin: 0 0.4em 0.5em 0.4em;box-sizing: border-box;padding-bottom: 0.4em;background-color: white;}#sk-container-id-51 div.sk-label label {font-family: monospace;font-weight: bold;display: inline-block;line-height: 1.2em;}#sk-container-id-51 div.sk-label-container {text-align: center;}#sk-container-id-51 div.sk-container {/* jupyter's `normalize.less` sets `[hidden] { display: none; }` but bootstrap.min.css set `[hidden] { display: none !important; }` so we also need the `!important` here to be able to override the default hidden behavior on the sphinx rendered scikit-learn.org. See: https://github.com/scikit-learn/scikit-learn/issues/21755 */display: inline-block !important;position: relative;}#sk-container-id-51 div.sk-text-repr-fallback {display: none;}</style><div id=\"sk-container-id-51\" class=\"sk-top-container\"><div class=\"sk-text-repr-fallback\"><pre>XGBRegressor(base_score=None, booster=None, callbacks=None,\n",
              "             colsample_bylevel=None, colsample_bynode=None,\n",
              "             colsample_bytree=0.9, early_stopping_rounds=None,\n",
              "             enable_categorical=False, eta=0.2, eval_metric=None,\n",
              "             feature_types=None, gamma=None, gpu_id=None, grow_policy=None,\n",
              "             importance_type=None, interaction_constraints=None,\n",
              "             learning_rate=None, max_bin=None, max_cat_threshold=None,\n",
              "             max_cat_to_onehot=None, max_delta_step=None, max_depth=1,\n",
              "             max_leaves=None, min_child_weight=None, missing=nan,\n",
              "             monotone_constraints=None, n_estimators=1000, n_jobs=None,\n",
              "             num_parallel_tree=None, predictor=None, ...)</pre><b>In a Jupyter environment, please rerun this cell to show the HTML representation or trust the notebook. <br />On GitHub, the HTML representation is unable to render, please try loading this page with nbviewer.org.</b></div><div class=\"sk-container\" hidden><div class=\"sk-item\"><div class=\"sk-estimator sk-toggleable\"><input class=\"sk-toggleable__control sk-hidden--visually\" id=\"sk-estimator-id-51\" type=\"checkbox\" checked><label for=\"sk-estimator-id-51\" class=\"sk-toggleable__label sk-toggleable__label-arrow\">XGBRegressor</label><div class=\"sk-toggleable__content\"><pre>XGBRegressor(base_score=None, booster=None, callbacks=None,\n",
              "             colsample_bylevel=None, colsample_bynode=None,\n",
              "             colsample_bytree=0.9, early_stopping_rounds=None,\n",
              "             enable_categorical=False, eta=0.2, eval_metric=None,\n",
              "             feature_types=None, gamma=None, gpu_id=None, grow_policy=None,\n",
              "             importance_type=None, interaction_constraints=None,\n",
              "             learning_rate=None, max_bin=None, max_cat_threshold=None,\n",
              "             max_cat_to_onehot=None, max_delta_step=None, max_depth=1,\n",
              "             max_leaves=None, min_child_weight=None, missing=nan,\n",
              "             monotone_constraints=None, n_estimators=1000, n_jobs=None,\n",
              "             num_parallel_tree=None, predictor=None, ...)</pre></div></div></div></div></div>"
            ]
          },
          "metadata": {},
          "execution_count": 291
        }
      ],
      "source": [
        "rfmod1 = XGBRegressor(n_estimators=1000, max_depth=1, eta=0.2, colsample_bytree=0.9,random_state=1)\n",
        "rfmod1.fit(X_train, y_train)"
      ]
    },
    {
      "cell_type": "code",
      "execution_count": 292,
      "id": "f8a74846",
      "metadata": {
        "colab": {
          "base_uri": "https://localhost:8080/"
        },
        "id": "f8a74846",
        "outputId": "032908d8-ef69-4ec8-9f28-0073122d92ec"
      },
      "outputs": [
        {
          "output_type": "stream",
          "name": "stdout",
          "text": [
            "R_squared = 0.1119170082651324\n"
          ]
        }
      ],
      "source": [
        "y_pred = np.clip(rfmod1.predict(X_test), 0, 5)\n",
        "r_sq1 = r2_score(y_test, y_pred)\n",
        "print(f\"R_squared = {r_sq1}\")"
      ]
    },
    {
      "cell_type": "code",
      "execution_count": 293,
      "id": "3a0a9811",
      "metadata": {
        "colab": {
          "base_uri": "https://localhost:8080/"
        },
        "id": "3a0a9811",
        "outputId": "e6597fe8-3c97-441c-cbc3-3967adc629d0"
      },
      "outputs": [
        {
          "output_type": "stream",
          "name": "stdout",
          "text": [
            "R_squared = 0.1119170082651324\n"
          ]
        }
      ],
      "source": [
        "r_sq2 = rfmod1.score(X_test, y_test)\n",
        "print(f\"R_squared = {r_sq2}\")"
      ]
    },
    {
      "cell_type": "code",
      "execution_count": null,
      "id": "c162912a",
      "metadata": {
        "id": "c162912a"
      },
      "outputs": [],
      "source": []
    },
    {
      "cell_type": "code",
      "execution_count": null,
      "id": "56be2603",
      "metadata": {
        "id": "56be2603"
      },
      "outputs": [],
      "source": []
    },
    {
      "cell_type": "code",
      "execution_count": null,
      "id": "bf68faa3",
      "metadata": {
        "id": "bf68faa3"
      },
      "outputs": [],
      "source": []
    },
    {
      "cell_type": "code",
      "execution_count": 294,
      "id": "95b660e4",
      "metadata": {
        "colab": {
          "base_uri": "https://localhost:8080/"
        },
        "id": "95b660e4",
        "outputId": "bf2c3ca9-45b1-4de0-d0a6-baf8add76d65"
      },
      "outputs": [
        {
          "output_type": "stream",
          "name": "stdout",
          "text": [
            "4.435283\n",
            "3.5363002\n"
          ]
        }
      ],
      "source": [
        "y_pred = rfmod1.predict(X_test)\n",
        "largest_value = y_pred.max()\n",
        "print(largest_value)\n",
        "smallest_value = y_pred.min()\n",
        "print(smallest_value)"
      ]
    },
    {
      "cell_type": "code",
      "execution_count": null,
      "id": "cbf668b8",
      "metadata": {
        "id": "cbf668b8"
      },
      "outputs": [],
      "source": []
    }
  ],
  "metadata": {
    "kernelspec": {
      "display_name": "Python 3 (ipykernel)",
      "language": "python",
      "name": "python3"
    },
    "language_info": {
      "codemirror_mode": {
        "name": "ipython",
        "version": 3
      },
      "file_extension": ".py",
      "mimetype": "text/x-python",
      "name": "python",
      "nbconvert_exporter": "python",
      "pygments_lexer": "ipython3",
      "version": "3.10.9"
    },
    "colab": {
      "provenance": []
    }
  },
  "nbformat": 4,
  "nbformat_minor": 5
}